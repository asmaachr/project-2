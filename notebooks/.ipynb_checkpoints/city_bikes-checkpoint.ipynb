{
 "cells": [
  {
   "cell_type": "markdown",
   "metadata": {},
   "source": [
    "# CityBikes"
   ]
  },
  {
   "cell_type": "markdown",
   "metadata": {},
   "source": [
    "Send a request to CityBikes for the city of your choice. "
   ]
  },
  {
   "cell_type": "code",
   "execution_count": 2,
   "metadata": {},
   "outputs": [],
   "source": [
    "import os\n",
    "import requests\n",
    "import json\n",
    "import pandas as pd\n",
    "from pathlib import Path"
   ]
  },
  {
   "cell_type": "code",
   "execution_count": 4,
   "metadata": {
    "scrolled": true,
    "tags": []
   },
   "outputs": [],
   "source": [
    "# create the API request URL\n",
    "\n",
    "url = \"https://api.citybik.es/v2/networks/sobi-hamilton\"\n",
    "\n",
    "## make the GET request\n",
    "response = requests.get(url)\n",
    "# Get the JSON content from the response\n",
    "city_bikes = response.json()\n",
    "\n",
    "\n",
    "\n",
    "\n",
    "\n",
    "\n",
    "\n",
    "\n"
   ]
  },
  {
   "cell_type": "code",
   "execution_count": 3,
   "metadata": {
    "scrolled": true,
    "tags": []
   },
   "outputs": [
    {
     "data": {
      "text/plain": [
       "dict"
      ]
     },
     "execution_count": 3,
     "metadata": {},
     "output_type": "execute_result"
    }
   ],
   "source": [
    "# validating the file type\n",
    "type(city_bikes)\n"
   ]
  },
  {
   "cell_type": "code",
   "execution_count": 4,
   "metadata": {},
   "outputs": [
    {
     "data": {
      "text/plain": [
       "{'empty_slots': 11,\n",
       " 'extra': {'address': '177, Bay Street North, Hess Village, Hamilton, Ontario',\n",
       "  'last_updated': 1682294129,\n",
       "  'payment': ['key',\n",
       "   'applepay',\n",
       "   'androidpay',\n",
       "   'transitcard',\n",
       "   'accountnumber',\n",
       "   'phone'],\n",
       "  'payment-terminal': False,\n",
       "  'renting': 1,\n",
       "  'returning': 1,\n",
       "  'uid': 'hub_577'},\n",
       " 'free_bikes': 2,\n",
       " 'id': 'b933317ff2861c45aacbea4cbf4b541f',\n",
       " 'latitude': 43.263198441574474,\n",
       " 'longitude': -79.87180307507515,\n",
       " 'name': 'Bay at Mulberry',\n",
       " 'timestamp': '2023-04-24T00:58:06.662000Z'}"
      ]
     },
     "execution_count": 4,
     "metadata": {},
     "output_type": "execute_result"
    }
   ],
   "source": [
    "# validation the parsing path\n",
    "\n",
    "city_bikes['network']['stations'][3]\n"
   ]
  },
  {
   "cell_type": "markdown",
   "metadata": {},
   "source": [
    "Parse through the response to get the details you want for the bike stations in that city (latitude, longitude, number of bikes). "
   ]
  },
  {
   "cell_type": "code",
   "execution_count": 5,
   "metadata": {},
   "outputs": [],
   "source": [
    "#parsing the json file#\n",
    "\n",
    "## Finding the stations caracteristiques\n",
    "stations=city_bikes['network']['stations']\n",
    "\n",
    "## finding the required fields\n",
    "stationid=[]\n",
    "longitude =[]\n",
    "latitude =[]\n",
    "free_bikes =[]\n",
    "empty_slots =[]\n",
    "name=[]\n",
    "### looping on the lenght of one request-one station\n",
    "for i in range(len(stations)):\n",
    "    stationid.append(stations[i]['id'])\n",
    "    longitude.append(stations[i]['longitude'])\n",
    "    latitude.append(stations[i]['latitude'])\n",
    "    free_bikes.append(stations[i]['free_bikes'])\n",
    "    empty_slots.append(stations[i]['empty_slots'])\n",
    "    name.append(stations[i]['name'])\n"
   ]
  },
  {
   "cell_type": "markdown",
   "metadata": {},
   "source": [
    "Put your parsed results into a DataFrame."
   ]
  },
  {
   "cell_type": "code",
   "execution_count": 7,
   "metadata": {
    "tags": []
   },
   "outputs": [
    {
     "data": {
      "text/html": [
       "<div>\n",
       "<style scoped>\n",
       "    .dataframe tbody tr th:only-of-type {\n",
       "        vertical-align: middle;\n",
       "    }\n",
       "\n",
       "    .dataframe tbody tr th {\n",
       "        vertical-align: top;\n",
       "    }\n",
       "\n",
       "    .dataframe thead th {\n",
       "        text-align: right;\n",
       "    }\n",
       "</style>\n",
       "<table border=\"1\" class=\"dataframe\">\n",
       "  <thead>\n",
       "    <tr style=\"text-align: right;\">\n",
       "      <th></th>\n",
       "      <th>stationid</th>\n",
       "      <th>name</th>\n",
       "      <th>longitude</th>\n",
       "      <th>latitude</th>\n",
       "      <th>free_bikes</th>\n",
       "      <th>empty_slots</th>\n",
       "      <th>total_bikes</th>\n",
       "    </tr>\n",
       "  </thead>\n",
       "  <tbody>\n",
       "    <tr>\n",
       "      <th>0</th>\n",
       "      <td>45dbb0009135e465f49f054517cbe74d</td>\n",
       "      <td>Hess at king</td>\n",
       "      <td>-79.877212</td>\n",
       "      <td>43.259126</td>\n",
       "      <td>5</td>\n",
       "      <td>7</td>\n",
       "      <td>12</td>\n",
       "    </tr>\n",
       "    <tr>\n",
       "      <th>1</th>\n",
       "      <td>cd881edad122a75c57d94b381cdfc6c0</td>\n",
       "      <td>Bayfront Park</td>\n",
       "      <td>-79.871327</td>\n",
       "      <td>43.269288</td>\n",
       "      <td>7</td>\n",
       "      <td>26</td>\n",
       "      <td>33</td>\n",
       "    </tr>\n",
       "    <tr>\n",
       "      <th>2</th>\n",
       "      <td>024a3edf037cb411d16acc08a7fcb954</td>\n",
       "      <td>Bay at Strachan</td>\n",
       "      <td>-79.867923</td>\n",
       "      <td>43.267859</td>\n",
       "      <td>7</td>\n",
       "      <td>17</td>\n",
       "      <td>24</td>\n",
       "    </tr>\n",
       "    <tr>\n",
       "      <th>3</th>\n",
       "      <td>b933317ff2861c45aacbea4cbf4b541f</td>\n",
       "      <td>Bay at Mulberry</td>\n",
       "      <td>-79.871803</td>\n",
       "      <td>43.263198</td>\n",
       "      <td>2</td>\n",
       "      <td>11</td>\n",
       "      <td>13</td>\n",
       "    </tr>\n",
       "    <tr>\n",
       "      <th>4</th>\n",
       "      <td>20dc109608315db09a8332d6e6940c75</td>\n",
       "      <td>City Hall</td>\n",
       "      <td>-79.874499</td>\n",
       "      <td>43.256132</td>\n",
       "      <td>6</td>\n",
       "      <td>11</td>\n",
       "      <td>17</td>\n",
       "    </tr>\n",
       "    <tr>\n",
       "      <th>...</th>\n",
       "      <td>...</td>\n",
       "      <td>...</td>\n",
       "      <td>...</td>\n",
       "      <td>...</td>\n",
       "      <td>...</td>\n",
       "      <td>...</td>\n",
       "      <td>...</td>\n",
       "    </tr>\n",
       "    <tr>\n",
       "      <th>138</th>\n",
       "      <td>55c7dd2953d457e587c7c9d092bf1cb2</td>\n",
       "      <td>Pier 8</td>\n",
       "      <td>-79.856907</td>\n",
       "      <td>43.275289</td>\n",
       "      <td>2</td>\n",
       "      <td>13</td>\n",
       "      <td>15</td>\n",
       "    </tr>\n",
       "    <tr>\n",
       "      <th>139</th>\n",
       "      <td>4b4ce0df11a6f9cf3fc6e04e94c78828</td>\n",
       "      <td>Westinghouse at Barton - ERI13</td>\n",
       "      <td>-79.842406</td>\n",
       "      <td>43.258319</td>\n",
       "      <td>5</td>\n",
       "      <td>8</td>\n",
       "      <td>13</td>\n",
       "    </tr>\n",
       "    <tr>\n",
       "      <th>140</th>\n",
       "      <td>88b4283638e2beb669e4fe1bee89c2f6</td>\n",
       "      <td>James at Colbourne</td>\n",
       "      <td>-79.866042</td>\n",
       "      <td>43.263777</td>\n",
       "      <td>6</td>\n",
       "      <td>7</td>\n",
       "      <td>13</td>\n",
       "    </tr>\n",
       "    <tr>\n",
       "      <th>141</th>\n",
       "      <td>8b7317cc71a48fcac26a3ebcd4da7f25</td>\n",
       "      <td>Main at Longwood</td>\n",
       "      <td>-79.902103</td>\n",
       "      <td>43.259604</td>\n",
       "      <td>6</td>\n",
       "      <td>3</td>\n",
       "      <td>9</td>\n",
       "    </tr>\n",
       "    <tr>\n",
       "      <th>142</th>\n",
       "      <td>b745b74c5f9f41debda6ab80a7d9d2ac</td>\n",
       "      <td>Van Wagners</td>\n",
       "      <td>-79.766388</td>\n",
       "      <td>43.260008</td>\n",
       "      <td>5</td>\n",
       "      <td>7</td>\n",
       "      <td>12</td>\n",
       "    </tr>\n",
       "  </tbody>\n",
       "</table>\n",
       "<p>143 rows × 7 columns</p>\n",
       "</div>"
      ],
      "text/plain": [
       "                            stationid                            name  \\\n",
       "0    45dbb0009135e465f49f054517cbe74d                    Hess at king   \n",
       "1    cd881edad122a75c57d94b381cdfc6c0                   Bayfront Park   \n",
       "2    024a3edf037cb411d16acc08a7fcb954                 Bay at Strachan   \n",
       "3    b933317ff2861c45aacbea4cbf4b541f                 Bay at Mulberry   \n",
       "4    20dc109608315db09a8332d6e6940c75                       City Hall   \n",
       "..                                ...                             ...   \n",
       "138  55c7dd2953d457e587c7c9d092bf1cb2                          Pier 8   \n",
       "139  4b4ce0df11a6f9cf3fc6e04e94c78828  Westinghouse at Barton - ERI13   \n",
       "140  88b4283638e2beb669e4fe1bee89c2f6              James at Colbourne   \n",
       "141  8b7317cc71a48fcac26a3ebcd4da7f25                Main at Longwood   \n",
       "142  b745b74c5f9f41debda6ab80a7d9d2ac                     Van Wagners   \n",
       "\n",
       "     longitude  latitude   free_bikes  empty_slots  total_bikes  \n",
       "0   -79.877212  43.259126           5            7           12  \n",
       "1   -79.871327  43.269288           7           26           33  \n",
       "2   -79.867923  43.267859           7           17           24  \n",
       "3   -79.871803  43.263198           2           11           13  \n",
       "4   -79.874499  43.256132           6           11           17  \n",
       "..         ...        ...         ...          ...          ...  \n",
       "138 -79.856907  43.275289           2           13           15  \n",
       "139 -79.842406  43.258319           5            8           13  \n",
       "140 -79.866042  43.263777           6            7           13  \n",
       "141 -79.902103  43.259604           6            3            9  \n",
       "142 -79.766388  43.260008           5            7           12  \n",
       "\n",
       "[143 rows x 7 columns]"
      ]
     },
     "execution_count": 7,
     "metadata": {},
     "output_type": "execute_result"
    }
   ],
   "source": [
    "# Puting the results into DataFrame\n",
    "\n",
    "city_bikes = {'stationid': stationid, 'name':name, 'longitude': longitude, 'latitude ': latitude , 'free_bikes': free_bikes, 'empty_slots': empty_slots }\n",
    "city_bikes_df=pd.DataFrame(city_bikes)\n",
    "city_bikes_df['total_bikes'] = city_bikes_df['free_bikes']+city_bikes_df['empty_slots']\n",
    "city_bikes_df   "
   ]
  },
  {
   "cell_type": "code",
   "execution_count": 185,
   "metadata": {},
   "outputs": [
    {
     "data": {
      "text/plain": [
       "pandas.core.frame.DataFrame"
      ]
     },
     "execution_count": 185,
     "metadata": {},
     "output_type": "execute_result"
    }
   ],
   "source": [
    "type(city_bikes_df)"
   ]
  },
  {
   "cell_type": "code",
   "execution_count": 8,
   "metadata": {},
   "outputs": [],
   "source": [
    "# Writing the dataframe to a CSV file\n",
    "\n",
    "file_path = Path('data/bikes.csv') \n",
    "file_path.parent.mkdir(parents=True, exist_ok=True)\n",
    "\n",
    "city_bikes_df.to_csv(file_path, sep=',',index=False)"
   ]
  }
 ],
 "metadata": {
  "kernelspec": {
   "display_name": "Python 3 (ipykernel)",
   "language": "python",
   "name": "python3"
  },
  "language_info": {
   "codemirror_mode": {
    "name": "ipython",
    "version": 3
   },
   "file_extension": ".py",
   "mimetype": "text/x-python",
   "name": "python",
   "nbconvert_exporter": "python",
   "pygments_lexer": "ipython3",
   "version": "3.10.9"
  }
 },
 "nbformat": 4,
 "nbformat_minor": 4
}
