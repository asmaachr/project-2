{
 "cells": [
  {
   "cell_type": "code",
   "execution_count": 62,
   "metadata": {},
   "outputs": [],
   "source": [
    "import pandas as pd\n",
    "import os\n",
    "import matplotlib.pyplot as plt\n",
    "import seaborn as sns\n",
    "import numpy as np\n",
    "from scipy import stats\n",
    "import statsmodels.api as sm"
   ]
  },
  {
   "cell_type": "markdown",
   "metadata": {},
   "source": [
    "Build a regression model."
   ]
  },
  {
   "cell_type": "code",
   "execution_count": 35,
   "metadata": {},
   "outputs": [],
   "source": [
    "analysis_df = pd.read_csv(\"analysis\")\n",
    "bike_station_df = pd.read_csv(\"bike_station_data\")"
   ]
  },
  {
   "cell_type": "code",
   "execution_count": 36,
   "metadata": {},
   "outputs": [
    {
     "data": {
      "text/html": [
       "<div>\n",
       "<style scoped>\n",
       "    .dataframe tbody tr th:only-of-type {\n",
       "        vertical-align: middle;\n",
       "    }\n",
       "\n",
       "    .dataframe tbody tr th {\n",
       "        vertical-align: top;\n",
       "    }\n",
       "\n",
       "    .dataframe thead th {\n",
       "        text-align: right;\n",
       "    }\n",
       "</style>\n",
       "<table border=\"1\" class=\"dataframe\">\n",
       "  <thead>\n",
       "    <tr style=\"text-align: right;\">\n",
       "      <th></th>\n",
       "      <th>longitude</th>\n",
       "      <th>latitude</th>\n",
       "      <th>free_bikes</th>\n",
       "      <th>empty_slots</th>\n",
       "      <th>total_bikes</th>\n",
       "      <th>station</th>\n",
       "      <th>Yelp_restaurant rating</th>\n",
       "      <th>Yelp_restaurant_count</th>\n",
       "      <th>Yelp_park_rating</th>\n",
       "      <th>Yelp_park_count</th>\n",
       "      <th>FSQ_restaurant_count</th>\n",
       "      <th>FSQ_park_count</th>\n",
       "    </tr>\n",
       "  </thead>\n",
       "  <tbody>\n",
       "    <tr>\n",
       "      <th>count</th>\n",
       "      <td>143.000000</td>\n",
       "      <td>143.000000</td>\n",
       "      <td>143.000000</td>\n",
       "      <td>143.000000</td>\n",
       "      <td>143.000000</td>\n",
       "      <td>143.00000</td>\n",
       "      <td>143.000000</td>\n",
       "      <td>143.000000</td>\n",
       "      <td>143.000000</td>\n",
       "      <td>143.000000</td>\n",
       "      <td>143.000000</td>\n",
       "      <td>143.000000</td>\n",
       "    </tr>\n",
       "    <tr>\n",
       "      <th>mean</th>\n",
       "      <td>-79.875226</td>\n",
       "      <td>43.257392</td>\n",
       "      <td>5.160839</td>\n",
       "      <td>6.930070</td>\n",
       "      <td>12.090909</td>\n",
       "      <td>71.00000</td>\n",
       "      <td>3.561205</td>\n",
       "      <td>19.153846</td>\n",
       "      <td>1.568182</td>\n",
       "      <td>0.552448</td>\n",
       "      <td>9.608392</td>\n",
       "      <td>8.993007</td>\n",
       "    </tr>\n",
       "    <tr>\n",
       "      <th>std</th>\n",
       "      <td>0.032471</td>\n",
       "      <td>0.007446</td>\n",
       "      <td>3.290298</td>\n",
       "      <td>5.341375</td>\n",
       "      <td>5.611745</td>\n",
       "      <td>41.42463</td>\n",
       "      <td>0.707706</td>\n",
       "      <td>3.621741</td>\n",
       "      <td>1.912059</td>\n",
       "      <td>0.718746</td>\n",
       "      <td>1.583520</td>\n",
       "      <td>2.137843</td>\n",
       "    </tr>\n",
       "    <tr>\n",
       "      <th>min</th>\n",
       "      <td>-79.953754</td>\n",
       "      <td>43.242163</td>\n",
       "      <td>0.000000</td>\n",
       "      <td>0.000000</td>\n",
       "      <td>1.000000</td>\n",
       "      <td>0.00000</td>\n",
       "      <td>0.000000</td>\n",
       "      <td>0.000000</td>\n",
       "      <td>0.000000</td>\n",
       "      <td>0.000000</td>\n",
       "      <td>0.000000</td>\n",
       "      <td>0.000000</td>\n",
       "    </tr>\n",
       "    <tr>\n",
       "      <th>25%</th>\n",
       "      <td>-79.895638</td>\n",
       "      <td>43.251999</td>\n",
       "      <td>3.000000</td>\n",
       "      <td>4.000000</td>\n",
       "      <td>9.000000</td>\n",
       "      <td>35.50000</td>\n",
       "      <td>3.150000</td>\n",
       "      <td>20.000000</td>\n",
       "      <td>0.000000</td>\n",
       "      <td>0.000000</td>\n",
       "      <td>10.000000</td>\n",
       "      <td>9.000000</td>\n",
       "    </tr>\n",
       "    <tr>\n",
       "      <th>50%</th>\n",
       "      <td>-79.869577</td>\n",
       "      <td>43.256569</td>\n",
       "      <td>5.000000</td>\n",
       "      <td>6.000000</td>\n",
       "      <td>11.000000</td>\n",
       "      <td>71.00000</td>\n",
       "      <td>3.775000</td>\n",
       "      <td>20.000000</td>\n",
       "      <td>0.000000</td>\n",
       "      <td>0.000000</td>\n",
       "      <td>10.000000</td>\n",
       "      <td>10.000000</td>\n",
       "    </tr>\n",
       "    <tr>\n",
       "      <th>75%</th>\n",
       "      <td>-79.855461</td>\n",
       "      <td>43.262020</td>\n",
       "      <td>7.000000</td>\n",
       "      <td>8.000000</td>\n",
       "      <td>13.000000</td>\n",
       "      <td>106.50000</td>\n",
       "      <td>4.087500</td>\n",
       "      <td>20.000000</td>\n",
       "      <td>3.500000</td>\n",
       "      <td>1.000000</td>\n",
       "      <td>10.000000</td>\n",
       "      <td>10.000000</td>\n",
       "    </tr>\n",
       "    <tr>\n",
       "      <th>max</th>\n",
       "      <td>-79.766388</td>\n",
       "      <td>43.289479</td>\n",
       "      <td>17.000000</td>\n",
       "      <td>31.000000</td>\n",
       "      <td>35.000000</td>\n",
       "      <td>142.00000</td>\n",
       "      <td>4.375000</td>\n",
       "      <td>20.000000</td>\n",
       "      <td>5.000000</td>\n",
       "      <td>2.000000</td>\n",
       "      <td>10.000000</td>\n",
       "      <td>10.000000</td>\n",
       "    </tr>\n",
       "  </tbody>\n",
       "</table>\n",
       "</div>"
      ],
      "text/plain": [
       "        longitude   latitude   free_bikes  empty_slots  total_bikes  \\\n",
       "count  143.000000  143.000000  143.000000   143.000000   143.000000   \n",
       "mean   -79.875226   43.257392    5.160839     6.930070    12.090909   \n",
       "std      0.032471    0.007446    3.290298     5.341375     5.611745   \n",
       "min    -79.953754   43.242163    0.000000     0.000000     1.000000   \n",
       "25%    -79.895638   43.251999    3.000000     4.000000     9.000000   \n",
       "50%    -79.869577   43.256569    5.000000     6.000000    11.000000   \n",
       "75%    -79.855461   43.262020    7.000000     8.000000    13.000000   \n",
       "max    -79.766388   43.289479   17.000000    31.000000    35.000000   \n",
       "\n",
       "         station  Yelp_restaurant rating  Yelp_restaurant_count  \\\n",
       "count  143.00000              143.000000             143.000000   \n",
       "mean    71.00000                3.561205              19.153846   \n",
       "std     41.42463                0.707706               3.621741   \n",
       "min      0.00000                0.000000               0.000000   \n",
       "25%     35.50000                3.150000              20.000000   \n",
       "50%     71.00000                3.775000              20.000000   \n",
       "75%    106.50000                4.087500              20.000000   \n",
       "max    142.00000                4.375000              20.000000   \n",
       "\n",
       "       Yelp_park_rating  Yelp_park_count  FSQ_restaurant_count  FSQ_park_count  \n",
       "count        143.000000       143.000000            143.000000      143.000000  \n",
       "mean           1.568182         0.552448              9.608392        8.993007  \n",
       "std            1.912059         0.718746              1.583520        2.137843  \n",
       "min            0.000000         0.000000              0.000000        0.000000  \n",
       "25%            0.000000         0.000000             10.000000        9.000000  \n",
       "50%            0.000000         0.000000             10.000000       10.000000  \n",
       "75%            3.500000         1.000000             10.000000       10.000000  \n",
       "max            5.000000         2.000000             10.000000       10.000000  "
      ]
     },
     "execution_count": 36,
     "metadata": {},
     "output_type": "execute_result"
    }
   ],
   "source": [
    "# checking the upload\n",
    "bike_station_df.describe()"
   ]
  },
  {
   "cell_type": "code",
   "execution_count": 37,
   "metadata": {
    "tags": []
   },
   "outputs": [
    {
     "data": {
      "text/html": [
       "<div>\n",
       "<style scoped>\n",
       "    .dataframe tbody tr th:only-of-type {\n",
       "        vertical-align: middle;\n",
       "    }\n",
       "\n",
       "    .dataframe tbody tr th {\n",
       "        vertical-align: top;\n",
       "    }\n",
       "\n",
       "    .dataframe thead th {\n",
       "        text-align: right;\n",
       "    }\n",
       "</style>\n",
       "<table border=\"1\" class=\"dataframe\">\n",
       "  <thead>\n",
       "    <tr style=\"text-align: right;\">\n",
       "      <th></th>\n",
       "      <th>free_bikes</th>\n",
       "      <th>total_bikes</th>\n",
       "      <th>Yelp_restaurant rating</th>\n",
       "      <th>Yelp_restaurant_count</th>\n",
       "      <th>Yelp_park_rating</th>\n",
       "      <th>Yelp_park_count</th>\n",
       "      <th>FSQ_restaurant_count</th>\n",
       "      <th>FSQ_park_count</th>\n",
       "      <th>perc_of_free_bikes%</th>\n",
       "    </tr>\n",
       "  </thead>\n",
       "  <tbody>\n",
       "    <tr>\n",
       "      <th>0</th>\n",
       "      <td>5</td>\n",
       "      <td>12</td>\n",
       "      <td>4.175</td>\n",
       "      <td>20</td>\n",
       "      <td>3.00</td>\n",
       "      <td>1</td>\n",
       "      <td>10</td>\n",
       "      <td>10</td>\n",
       "      <td>41.67</td>\n",
       "    </tr>\n",
       "    <tr>\n",
       "      <th>1</th>\n",
       "      <td>6</td>\n",
       "      <td>32</td>\n",
       "      <td>3.575</td>\n",
       "      <td>20</td>\n",
       "      <td>3.75</td>\n",
       "      <td>2</td>\n",
       "      <td>10</td>\n",
       "      <td>10</td>\n",
       "      <td>18.75</td>\n",
       "    </tr>\n",
       "    <tr>\n",
       "      <th>2</th>\n",
       "      <td>7</td>\n",
       "      <td>24</td>\n",
       "      <td>3.950</td>\n",
       "      <td>20</td>\n",
       "      <td>3.75</td>\n",
       "      <td>2</td>\n",
       "      <td>10</td>\n",
       "      <td>10</td>\n",
       "      <td>29.17</td>\n",
       "    </tr>\n",
       "    <tr>\n",
       "      <th>3</th>\n",
       "      <td>2</td>\n",
       "      <td>13</td>\n",
       "      <td>4.075</td>\n",
       "      <td>20</td>\n",
       "      <td>4.00</td>\n",
       "      <td>1</td>\n",
       "      <td>10</td>\n",
       "      <td>10</td>\n",
       "      <td>15.38</td>\n",
       "    </tr>\n",
       "    <tr>\n",
       "      <th>4</th>\n",
       "      <td>7</td>\n",
       "      <td>17</td>\n",
       "      <td>4.125</td>\n",
       "      <td>20</td>\n",
       "      <td>0.00</td>\n",
       "      <td>0</td>\n",
       "      <td>10</td>\n",
       "      <td>10</td>\n",
       "      <td>41.18</td>\n",
       "    </tr>\n",
       "  </tbody>\n",
       "</table>\n",
       "</div>"
      ],
      "text/plain": [
       "   free_bikes  total_bikes  Yelp_restaurant rating  Yelp_restaurant_count  \\\n",
       "0           5           12                   4.175                     20   \n",
       "1           6           32                   3.575                     20   \n",
       "2           7           24                   3.950                     20   \n",
       "3           2           13                   4.075                     20   \n",
       "4           7           17                   4.125                     20   \n",
       "\n",
       "   Yelp_park_rating  Yelp_park_count  FSQ_restaurant_count  FSQ_park_count  \\\n",
       "0              3.00                1                    10              10   \n",
       "1              3.75                2                    10              10   \n",
       "2              3.75                2                    10              10   \n",
       "3              4.00                1                    10              10   \n",
       "4              0.00                0                    10              10   \n",
       "\n",
       "   perc_of_free_bikes%  \n",
       "0                41.67  \n",
       "1                18.75  \n",
       "2                29.17  \n",
       "3                15.38  \n",
       "4                41.18  "
      ]
     },
     "execution_count": 37,
     "metadata": {},
     "output_type": "execute_result"
    }
   ],
   "source": [
    "analysis_df.head()"
   ]
  },
  {
   "cell_type": "code",
   "execution_count": 22,
   "metadata": {},
   "outputs": [
    {
     "name": "stdout",
     "output_type": "stream",
     "text": [
      "Index(['free_bikes', 'total_bikes', 'Yelp_restaurant rating',\n",
      "       'Yelp_restaurant_count', 'Yelp_park_rating', 'Yelp_park_count',\n",
      "       'FSQ_restaurant_count', 'FSQ_park_count', 'perc_of_free_bikes%'],\n",
      "      dtype='object')\n"
     ]
    }
   ],
   "source": [
    "print(analysis_df.columns)"
   ]
  },
  {
   "cell_type": "code",
   "execution_count": 23,
   "metadata": {
    "tags": []
   },
   "outputs": [
    {
     "name": "stdout",
     "output_type": "stream",
     "text": [
      "                             OLS Regression Results                            \n",
      "===============================================================================\n",
      "Dep. Variable:     perc_of_free_bikes%   R-squared:                       0.094\n",
      "Model:                             OLS   Adj. R-squared:                  0.047\n",
      "Method:                  Least Squares   F-statistic:                     2.001\n",
      "Date:                 Mon, 24 Apr 2023   Prob (F-statistic):             0.0594\n",
      "Time:                         12:23:01   Log-Likelihood:                -659.88\n",
      "No. Observations:                  143   AIC:                             1336.\n",
      "Df Residuals:                      135   BIC:                             1359.\n",
      "Df Model:                            7                                         \n",
      "Covariance Type:             nonrobust                                         \n",
      "==========================================================================================\n",
      "                             coef    std err          t      P>|t|      [0.025      0.975]\n",
      "------------------------------------------------------------------------------------------\n",
      "const                     48.5411     14.987      3.239      0.002      18.902      78.180\n",
      "total_bikes               -0.6767      0.380     -1.782      0.077      -1.428       0.074\n",
      "Yelp_restaurant rating    -3.1000      3.865     -0.802      0.424     -10.743       4.543\n",
      "Yelp_restaurant_count      3.2464      1.972      1.647      0.102      -0.653       7.145\n",
      "Yelp_park_rating          -2.2851      2.437     -0.937      0.350      -7.106       2.535\n",
      "Yelp_park_count            3.7376      6.606      0.566      0.572      -9.327      16.803\n",
      "FSQ_restaurant_count      -3.1691      4.685     -0.676      0.500     -12.435       6.097\n",
      "FSQ_park_count            -1.6565      1.245     -1.331      0.185      -4.118       0.805\n",
      "==============================================================================\n",
      "Omnibus:                        3.341   Durbin-Watson:                   1.984\n",
      "Prob(Omnibus):                  0.188   Jarque-Bera (JB):                3.278\n",
      "Skew:                           0.322   Prob(JB):                        0.194\n",
      "Kurtosis:                       2.631   Cond. No.                         193.\n",
      "==============================================================================\n",
      "\n",
      "Notes:\n",
      "[1] Standard Errors assume that the covariance matrix of the errors is correctly specified.\n"
     ]
    }
   ],
   "source": [
    "# we will use a backward approach. We will see if we can predict the perc_bikes_free based on the rating  and counts\n",
    "\n",
    "\n",
    "y= analysis_df['perc_of_free_bikes%']\n",
    "X= analysis_df.drop('perc_of_free_bikes%',axis= 'columns')\n",
    "X=X.drop('free_bikes',axis= 'columns')\n",
    "\n",
    "X=sm.add_constant(X)\n",
    "\n",
    "model = sm.OLS(y, X)\n",
    "results = model.fit()\n",
    "print(results.summary())\n"
   ]
  },
  {
   "cell_type": "markdown",
   "metadata": {},
   "source": [
    "Provide model output and an interpretation of the results. "
   ]
  },
  {
   "cell_type": "markdown",
   "metadata": {},
   "source": [
    "The R-squared is 0.9% adj R-squared 4.7%\n",
    "let's see if we can improve it\n",
    "The highest P-value is Park_countk. We will re-run our model without it"
   ]
  },
  {
   "cell_type": "code",
   "execution_count": 24,
   "metadata": {},
   "outputs": [
    {
     "name": "stdout",
     "output_type": "stream",
     "text": [
      "                             OLS Regression Results                            \n",
      "===============================================================================\n",
      "Dep. Variable:     perc_of_free_bikes%   R-squared:                       0.092\n",
      "Model:                             OLS   Adj. R-squared:                  0.052\n",
      "Method:                  Least Squares   F-statistic:                     2.293\n",
      "Date:                 Mon, 24 Apr 2023   Prob (F-statistic):             0.0386\n",
      "Time:                         12:23:06   Log-Likelihood:                -660.05\n",
      "No. Observations:                  143   AIC:                             1334.\n",
      "Df Residuals:                      136   BIC:                             1355.\n",
      "Df Model:                            6                                         \n",
      "Covariance Type:             nonrobust                                         \n",
      "==========================================================================================\n",
      "                             coef    std err          t      P>|t|      [0.025      0.975]\n",
      "------------------------------------------------------------------------------------------\n",
      "const                     48.5144     14.949      3.245      0.001      18.951      78.077\n",
      "total_bikes               -0.6555      0.377     -1.739      0.084      -1.401       0.090\n",
      "Yelp_restaurant rating    -2.6980      3.789     -0.712      0.478     -10.191       4.795\n",
      "Yelp_restaurant_count      3.1068      1.951      1.592      0.114      -0.752       6.965\n",
      "Yelp_park_rating          -1.0588      1.112     -0.952      0.343      -3.258       1.141\n",
      "FSQ_restaurant_count      -3.0239      4.666     -0.648      0.518     -12.252       6.204\n",
      "FSQ_park_count            -1.6833      1.241     -1.357      0.177      -4.137       0.770\n",
      "==============================================================================\n",
      "Omnibus:                        3.149   Durbin-Watson:                   2.009\n",
      "Prob(Omnibus):                  0.207   Jarque-Bera (JB):                3.064\n",
      "Skew:                           0.304   Prob(JB):                        0.216\n",
      "Kurtosis:                       2.619   Cond. No.                         193.\n",
      "==============================================================================\n",
      "\n",
      "Notes:\n",
      "[1] Standard Errors assume that the covariance matrix of the errors is correctly specified.\n"
     ]
    }
   ],
   "source": [
    "X=X.drop('Yelp_park_count',axis= 'columns')\n",
    "\n",
    "X=sm.add_constant(X)\n",
    "\n",
    "model = sm.OLS(y, X)\n",
    "results = model.fit()\n",
    "print(results.summary())"
   ]
  },
  {
   "cell_type": "code",
   "execution_count": 25,
   "metadata": {
    "tags": []
   },
   "outputs": [
    {
     "name": "stdout",
     "output_type": "stream",
     "text": [
      "                             OLS Regression Results                            \n",
      "===============================================================================\n",
      "Dep. Variable:     perc_of_free_bikes%   R-squared:                       0.072\n",
      "Model:                             OLS   Adj. R-squared:                  0.038\n",
      "Method:                  Least Squares   F-statistic:                     2.115\n",
      "Date:                 Mon, 24 Apr 2023   Prob (F-statistic):             0.0672\n",
      "Time:                         12:23:12   Log-Likelihood:                -661.62\n",
      "No. Observations:                  143   AIC:                             1335.\n",
      "Df Residuals:                      137   BIC:                             1353.\n",
      "Df Model:                            5                                         \n",
      "Covariance Type:             nonrobust                                         \n",
      "==========================================================================================\n",
      "                             coef    std err          t      P>|t|      [0.025      0.975]\n",
      "------------------------------------------------------------------------------------------\n",
      "const                     39.4546     14.115      2.795      0.006      11.544      67.366\n",
      "Yelp_restaurant rating    -2.5904      3.817     -0.679      0.498     -10.137       4.957\n",
      "Yelp_restaurant_count      3.2112      1.965      1.635      0.104      -0.674       7.096\n",
      "Yelp_park_rating          -1.0631      1.120     -0.949      0.344      -3.278       1.152\n",
      "FSQ_restaurant_count      -3.0054      4.701     -0.639      0.524     -12.301       6.290\n",
      "FSQ_park_count            -1.8412      1.246     -1.477      0.142      -4.306       0.623\n",
      "==============================================================================\n",
      "Omnibus:                        5.543   Durbin-Watson:                   2.027\n",
      "Prob(Omnibus):                  0.063   Jarque-Bera (JB):                5.021\n",
      "Skew:                           0.387   Prob(JB):                       0.0812\n",
      "Kurtosis:                       2.508   Cond. No.                         162.\n",
      "==============================================================================\n",
      "\n",
      "Notes:\n",
      "[1] Standard Errors assume that the covariance matrix of the errors is correctly specified.\n"
     ]
    }
   ],
   "source": [
    "X=X.drop('total_bikes',axis= 'columns')\n",
    "\n",
    "X=sm.add_constant(X)\n",
    "\n",
    "model = sm.OLS(y, X)\n",
    "results = model.fit()\n",
    "print(results.summary())"
   ]
  },
  {
   "cell_type": "code",
   "execution_count": 10,
   "metadata": {
    "jupyter": {
     "source_hidden": true
    },
    "tags": []
   },
   "outputs": [
    {
     "name": "stdout",
     "output_type": "stream",
     "text": [
      "                             OLS Regression Results                            \n",
      "===============================================================================\n",
      "Dep. Variable:     perc_of_free_bikes%   R-squared:                       0.054\n",
      "Model:                             OLS   Adj. R-squared:                  0.026\n",
      "Method:                  Least Squares   F-statistic:                     1.953\n",
      "Date:                 Mon, 24 Apr 2023   Prob (F-statistic):              0.105\n",
      "Time:                         11:59:38   Log-Likelihood:                -663.00\n",
      "No. Observations:                  143   AIC:                             1336.\n",
      "Df Residuals:                      138   BIC:                             1351.\n",
      "Df Model:                            4                                         \n",
      "Covariance Type:             nonrobust                                         \n",
      "==========================================================================================\n",
      "                             coef    std err          t      P>|t|      [0.025      0.975]\n",
      "------------------------------------------------------------------------------------------\n",
      "const                     34.6016     13.882      2.493      0.014       7.152      62.051\n",
      "Yelp_restaurant rating    -3.1617      3.823     -0.827      0.410     -10.722       4.398\n",
      "Yelp_park_rating          -1.2393      1.122     -1.105      0.271      -3.458       0.979\n",
      "FSQ_restaurant_count       4.1401      1.738      2.382      0.019       0.703       7.577\n",
      "FSQ_park_count            -1.8396      1.254     -1.467      0.145      -4.319       0.640\n",
      "==============================================================================\n",
      "Omnibus:                        6.178   Durbin-Watson:                   1.978\n",
      "Prob(Omnibus):                  0.046   Jarque-Bera (JB):                5.142\n",
      "Skew:                           0.370   Prob(JB):                       0.0765\n",
      "Kurtosis:                       2.439   Cond. No.                         91.6\n",
      "==============================================================================\n",
      "\n",
      "Notes:\n",
      "[1] Standard Errors assume that the covariance matrix of the errors is correctly specified.\n"
     ]
    }
   ],
   "source": [
    "X=X.drop('Yelp_restaurant_count',axis= 'columns')\n",
    "\n",
    "X=sm.add_constant(X)\n",
    "\n",
    "model = sm.OLS(y, X)\n",
    "results = model.fit()\n",
    "print(results.summary())"
   ]
  },
  {
   "cell_type": "markdown",
   "metadata": {},
   "source": [
    "The model  (Adj. R-squared and Adj. R-squared   here because multiple variables) gets worse every time every time we remove a variable which suggest that \n",
    "the best model is the first one. \n",
    "Conclusion:Actual variables explain only 0.09% of perc_of_free_bikes\n",
    "Since the model doesn't have a good fit. wWe won't do any further analysis"
   ]
  },
  {
   "cell_type": "markdown",
   "metadata": {},
   "source": [
    "# Stretch"
   ]
  },
  {
   "cell_type": "markdown",
   "metadata": {},
   "source": [
    "How can you turn the regression model into a classification model?"
   ]
  },
  {
   "cell_type": "markdown",
   "metadata": {
    "tags": []
   },
   "source": [
    "We will consider add a variable \"busy station\"= Free_bikes less or equal to average and \"non busy station\""
   ]
  },
  {
   "cell_type": "code",
   "execution_count": 85,
   "metadata": {
    "jupyter": {
     "source_hidden": true
    },
    "tags": []
   },
   "outputs": [
    {
     "data": {
      "text/html": [
       "<div>\n",
       "<style scoped>\n",
       "    .dataframe tbody tr th:only-of-type {\n",
       "        vertical-align: middle;\n",
       "    }\n",
       "\n",
       "    .dataframe tbody tr th {\n",
       "        vertical-align: top;\n",
       "    }\n",
       "\n",
       "    .dataframe thead th {\n",
       "        text-align: right;\n",
       "    }\n",
       "</style>\n",
       "<table border=\"1\" class=\"dataframe\">\n",
       "  <thead>\n",
       "    <tr style=\"text-align: right;\">\n",
       "      <th></th>\n",
       "      <th>free_bikes</th>\n",
       "      <th>total_bikes</th>\n",
       "      <th>Yelp_restaurant rating</th>\n",
       "      <th>Yelp_restaurant_count</th>\n",
       "      <th>Yelp_park_rating</th>\n",
       "      <th>Yelp_park_count</th>\n",
       "      <th>FSQ_restaurant_count</th>\n",
       "      <th>FSQ_park_count</th>\n",
       "      <th>perc_of_free_bikes%</th>\n",
       "      <th>busy_station</th>\n",
       "    </tr>\n",
       "  </thead>\n",
       "  <tbody>\n",
       "    <tr>\n",
       "      <th>0</th>\n",
       "      <td>5</td>\n",
       "      <td>12</td>\n",
       "      <td>4.175</td>\n",
       "      <td>20</td>\n",
       "      <td>3.00</td>\n",
       "      <td>1</td>\n",
       "      <td>10</td>\n",
       "      <td>10</td>\n",
       "      <td>41.67</td>\n",
       "      <td>0</td>\n",
       "    </tr>\n",
       "    <tr>\n",
       "      <th>1</th>\n",
       "      <td>6</td>\n",
       "      <td>32</td>\n",
       "      <td>3.575</td>\n",
       "      <td>20</td>\n",
       "      <td>3.75</td>\n",
       "      <td>2</td>\n",
       "      <td>10</td>\n",
       "      <td>10</td>\n",
       "      <td>18.75</td>\n",
       "      <td>0</td>\n",
       "    </tr>\n",
       "    <tr>\n",
       "      <th>2</th>\n",
       "      <td>7</td>\n",
       "      <td>24</td>\n",
       "      <td>3.950</td>\n",
       "      <td>20</td>\n",
       "      <td>3.75</td>\n",
       "      <td>2</td>\n",
       "      <td>10</td>\n",
       "      <td>10</td>\n",
       "      <td>29.17</td>\n",
       "      <td>0</td>\n",
       "    </tr>\n",
       "    <tr>\n",
       "      <th>3</th>\n",
       "      <td>2</td>\n",
       "      <td>13</td>\n",
       "      <td>4.075</td>\n",
       "      <td>20</td>\n",
       "      <td>4.00</td>\n",
       "      <td>1</td>\n",
       "      <td>10</td>\n",
       "      <td>10</td>\n",
       "      <td>15.38</td>\n",
       "      <td>1</td>\n",
       "    </tr>\n",
       "    <tr>\n",
       "      <th>4</th>\n",
       "      <td>7</td>\n",
       "      <td>17</td>\n",
       "      <td>4.125</td>\n",
       "      <td>20</td>\n",
       "      <td>0.00</td>\n",
       "      <td>0</td>\n",
       "      <td>10</td>\n",
       "      <td>10</td>\n",
       "      <td>41.18</td>\n",
       "      <td>0</td>\n",
       "    </tr>\n",
       "  </tbody>\n",
       "</table>\n",
       "</div>"
      ],
      "text/plain": [
       "   free_bikes  total_bikes  Yelp_restaurant rating  Yelp_restaurant_count  \\\n",
       "0           5           12                   4.175                     20   \n",
       "1           6           32                   3.575                     20   \n",
       "2           7           24                   3.950                     20   \n",
       "3           2           13                   4.075                     20   \n",
       "4           7           17                   4.125                     20   \n",
       "\n",
       "   Yelp_park_rating  Yelp_park_count  FSQ_restaurant_count  FSQ_park_count  \\\n",
       "0              3.00                1                    10              10   \n",
       "1              3.75                2                    10              10   \n",
       "2              3.75                2                    10              10   \n",
       "3              4.00                1                    10              10   \n",
       "4              0.00                0                    10              10   \n",
       "\n",
       "   perc_of_free_bikes%  busy_station  \n",
       "0                41.67             0  \n",
       "1                18.75             0  \n",
       "2                29.17             0  \n",
       "3                15.38             1  \n",
       "4                41.18             0  "
      ]
     },
     "execution_count": 85,
     "metadata": {},
     "output_type": "execute_result"
    }
   ],
   "source": [
    "\n",
    "\n",
    "analysis_df['busy_station'] = analysis_df['free_bikes'].apply(lambda x:1 if x < 4  else 0)\n",
    "analysis_df.head()"
   ]
  },
  {
   "cell_type": "code",
   "execution_count": 89,
   "metadata": {},
   "outputs": [
    {
     "data": {
      "text/plain": [
       "free_bikes                  int64\n",
       "total_bikes                 int64\n",
       "Yelp_restaurant rating    float64\n",
       "Yelp_restaurant_count       int64\n",
       "Yelp_park_rating          float64\n",
       "Yelp_park_count             int64\n",
       "FSQ_restaurant_count        int64\n",
       "FSQ_park_count              int64\n",
       "perc_of_free_bikes%       float64\n",
       "busy_station                int64\n",
       "dtype: object"
      ]
     },
     "execution_count": 89,
     "metadata": {},
     "output_type": "execute_result"
    }
   ],
   "source": [
    "analysis_df.dtypes\n"
   ]
  },
  {
   "cell_type": "code",
   "execution_count": 92,
   "metadata": {
    "tags": []
   },
   "outputs": [
    {
     "name": "stdout",
     "output_type": "stream",
     "text": [
      "Optimization terminated successfully.\n",
      "         Current function value: 0.629935\n",
      "         Iterations 5\n",
      "                           Logit Regression Results                           \n",
      "==============================================================================\n",
      "Dep. Variable:           busy_station   No. Observations:                  143\n",
      "Model:                          Logit   Df Residuals:                      141\n",
      "Method:                           MLE   Df Model:                            1\n",
      "Date:                Mon, 24 Apr 2023   Pseudo R-squ.:                 0.01282\n",
      "Time:                        14:01:08   Log-Likelihood:                -90.081\n",
      "converged:                       True   LL-Null:                       -91.251\n",
      "Covariance Type:            nonrobust   LLR p-value:                    0.1261\n",
      "==========================================================================================\n",
      "                             coef    std err          z      P>|z|      [0.025      0.975]\n",
      "------------------------------------------------------------------------------------------\n",
      "const                     -2.2118      1.089     -2.032      0.042      -4.346      -0.078\n",
      "Yelp_restaurant rating     0.4248      0.295      1.439      0.150      -0.154       1.003\n",
      "==========================================================================================\n"
     ]
    }
   ],
   "source": [
    "# Dependent variable is 'free_bikes'\n",
    "X=analysis_df['Yelp_restaurant rating'] \n",
    "y=analysis_df['busy_station']\n",
    "\n",
    "# ['Yelp_restaurant rating']\n",
    "# Independent variables are 'rating', and 'price'\n",
    "\n",
    "X = sm.add_constant(X)\n",
    "\n",
    "model = sm.Logit(y,X)\n",
    "results = model.fit()\n",
    "print(results.summary())"
   ]
  },
  {
   "cell_type": "code",
   "execution_count": null,
   "metadata": {},
   "outputs": [],
   "source": []
  },
  {
   "cell_type": "code",
   "execution_count": 96,
   "metadata": {
    "tags": []
   },
   "outputs": [
    {
     "ename": "PerfectSeparationError",
     "evalue": "Perfect separation detected, results not available",
     "output_type": "error",
     "traceback": [
      "\u001b[1;31m---------------------------------------------------------------------------\u001b[0m",
      "\u001b[1;31mPerfectSeparationError\u001b[0m                    Traceback (most recent call last)",
      "Cell \u001b[1;32mIn[96], line 12\u001b[0m\n\u001b[0;32m      9\u001b[0m X \u001b[38;5;241m=\u001b[39m sm\u001b[38;5;241m.\u001b[39madd_constant(X)\n\u001b[0;32m     11\u001b[0m model \u001b[38;5;241m=\u001b[39m sm\u001b[38;5;241m.\u001b[39mLogit(y,X)\n\u001b[1;32m---> 12\u001b[0m results \u001b[38;5;241m=\u001b[39m \u001b[43mmodel\u001b[49m\u001b[38;5;241;43m.\u001b[39;49m\u001b[43mfit\u001b[49m\u001b[43m(\u001b[49m\u001b[43m)\u001b[49m\n\u001b[0;32m     13\u001b[0m \u001b[38;5;28mprint\u001b[39m(results\u001b[38;5;241m.\u001b[39msummary())\n",
      "File \u001b[1;32m~\\anaconda3\\lib\\site-packages\\statsmodels\\discrete\\discrete_model.py:1983\u001b[0m, in \u001b[0;36mLogit.fit\u001b[1;34m(self, start_params, method, maxiter, full_output, disp, callback, **kwargs)\u001b[0m\n\u001b[0;32m   1980\u001b[0m \u001b[38;5;129m@Appender\u001b[39m(DiscreteModel\u001b[38;5;241m.\u001b[39mfit\u001b[38;5;241m.\u001b[39m\u001b[38;5;18m__doc__\u001b[39m)\n\u001b[0;32m   1981\u001b[0m \u001b[38;5;28;01mdef\u001b[39;00m \u001b[38;5;21mfit\u001b[39m(\u001b[38;5;28mself\u001b[39m, start_params\u001b[38;5;241m=\u001b[39m\u001b[38;5;28;01mNone\u001b[39;00m, method\u001b[38;5;241m=\u001b[39m\u001b[38;5;124m'\u001b[39m\u001b[38;5;124mnewton\u001b[39m\u001b[38;5;124m'\u001b[39m, maxiter\u001b[38;5;241m=\u001b[39m\u001b[38;5;241m35\u001b[39m,\n\u001b[0;32m   1982\u001b[0m         full_output\u001b[38;5;241m=\u001b[39m\u001b[38;5;241m1\u001b[39m, disp\u001b[38;5;241m=\u001b[39m\u001b[38;5;241m1\u001b[39m, callback\u001b[38;5;241m=\u001b[39m\u001b[38;5;28;01mNone\u001b[39;00m, \u001b[38;5;241m*\u001b[39m\u001b[38;5;241m*\u001b[39mkwargs):\n\u001b[1;32m-> 1983\u001b[0m     bnryfit \u001b[38;5;241m=\u001b[39m \u001b[38;5;28msuper\u001b[39m()\u001b[38;5;241m.\u001b[39mfit(start_params\u001b[38;5;241m=\u001b[39mstart_params,\n\u001b[0;32m   1984\u001b[0m                           method\u001b[38;5;241m=\u001b[39mmethod,\n\u001b[0;32m   1985\u001b[0m                           maxiter\u001b[38;5;241m=\u001b[39mmaxiter,\n\u001b[0;32m   1986\u001b[0m                           full_output\u001b[38;5;241m=\u001b[39mfull_output,\n\u001b[0;32m   1987\u001b[0m                           disp\u001b[38;5;241m=\u001b[39mdisp,\n\u001b[0;32m   1988\u001b[0m                           callback\u001b[38;5;241m=\u001b[39mcallback,\n\u001b[0;32m   1989\u001b[0m                           \u001b[38;5;241m*\u001b[39m\u001b[38;5;241m*\u001b[39mkwargs)\n\u001b[0;32m   1991\u001b[0m     discretefit \u001b[38;5;241m=\u001b[39m LogitResults(\u001b[38;5;28mself\u001b[39m, bnryfit)\n\u001b[0;32m   1992\u001b[0m     \u001b[38;5;28;01mreturn\u001b[39;00m BinaryResultsWrapper(discretefit)\n",
      "File \u001b[1;32m~\\anaconda3\\lib\\site-packages\\statsmodels\\discrete\\discrete_model.py:230\u001b[0m, in \u001b[0;36mDiscreteModel.fit\u001b[1;34m(self, start_params, method, maxiter, full_output, disp, callback, **kwargs)\u001b[0m\n\u001b[0;32m    227\u001b[0m \u001b[38;5;28;01melse\u001b[39;00m:\n\u001b[0;32m    228\u001b[0m     \u001b[38;5;28;01mpass\u001b[39;00m  \u001b[38;5;66;03m# TODO: make a function factory to have multiple call-backs\u001b[39;00m\n\u001b[1;32m--> 230\u001b[0m mlefit \u001b[38;5;241m=\u001b[39m \u001b[38;5;28msuper\u001b[39m()\u001b[38;5;241m.\u001b[39mfit(start_params\u001b[38;5;241m=\u001b[39mstart_params,\n\u001b[0;32m    231\u001b[0m                      method\u001b[38;5;241m=\u001b[39mmethod,\n\u001b[0;32m    232\u001b[0m                      maxiter\u001b[38;5;241m=\u001b[39mmaxiter,\n\u001b[0;32m    233\u001b[0m                      full_output\u001b[38;5;241m=\u001b[39mfull_output,\n\u001b[0;32m    234\u001b[0m                      disp\u001b[38;5;241m=\u001b[39mdisp,\n\u001b[0;32m    235\u001b[0m                      callback\u001b[38;5;241m=\u001b[39mcallback,\n\u001b[0;32m    236\u001b[0m                      \u001b[38;5;241m*\u001b[39m\u001b[38;5;241m*\u001b[39mkwargs)\n\u001b[0;32m    238\u001b[0m \u001b[38;5;28;01mreturn\u001b[39;00m mlefit\n",
      "File \u001b[1;32m~\\anaconda3\\lib\\site-packages\\statsmodels\\base\\model.py:563\u001b[0m, in \u001b[0;36mLikelihoodModel.fit\u001b[1;34m(self, start_params, method, maxiter, full_output, disp, fargs, callback, retall, skip_hessian, **kwargs)\u001b[0m\n\u001b[0;32m    560\u001b[0m     \u001b[38;5;28;01mdel\u001b[39;00m kwargs[\u001b[38;5;124m\"\u001b[39m\u001b[38;5;124muse_t\u001b[39m\u001b[38;5;124m\"\u001b[39m]\n\u001b[0;32m    562\u001b[0m optimizer \u001b[38;5;241m=\u001b[39m Optimizer()\n\u001b[1;32m--> 563\u001b[0m xopt, retvals, optim_settings \u001b[38;5;241m=\u001b[39m \u001b[43moptimizer\u001b[49m\u001b[38;5;241;43m.\u001b[39;49m\u001b[43m_fit\u001b[49m\u001b[43m(\u001b[49m\u001b[43mf\u001b[49m\u001b[43m,\u001b[49m\u001b[43m \u001b[49m\u001b[43mscore\u001b[49m\u001b[43m,\u001b[49m\u001b[43m \u001b[49m\u001b[43mstart_params\u001b[49m\u001b[43m,\u001b[49m\n\u001b[0;32m    564\u001b[0m \u001b[43m                                               \u001b[49m\u001b[43mfargs\u001b[49m\u001b[43m,\u001b[49m\u001b[43m \u001b[49m\u001b[43mkwargs\u001b[49m\u001b[43m,\u001b[49m\n\u001b[0;32m    565\u001b[0m \u001b[43m                                               \u001b[49m\u001b[43mhessian\u001b[49m\u001b[38;5;241;43m=\u001b[39;49m\u001b[43mhess\u001b[49m\u001b[43m,\u001b[49m\n\u001b[0;32m    566\u001b[0m \u001b[43m                                               \u001b[49m\u001b[43mmethod\u001b[49m\u001b[38;5;241;43m=\u001b[39;49m\u001b[43mmethod\u001b[49m\u001b[43m,\u001b[49m\n\u001b[0;32m    567\u001b[0m \u001b[43m                                               \u001b[49m\u001b[43mdisp\u001b[49m\u001b[38;5;241;43m=\u001b[39;49m\u001b[43mdisp\u001b[49m\u001b[43m,\u001b[49m\n\u001b[0;32m    568\u001b[0m \u001b[43m                                               \u001b[49m\u001b[43mmaxiter\u001b[49m\u001b[38;5;241;43m=\u001b[39;49m\u001b[43mmaxiter\u001b[49m\u001b[43m,\u001b[49m\n\u001b[0;32m    569\u001b[0m \u001b[43m                                               \u001b[49m\u001b[43mcallback\u001b[49m\u001b[38;5;241;43m=\u001b[39;49m\u001b[43mcallback\u001b[49m\u001b[43m,\u001b[49m\n\u001b[0;32m    570\u001b[0m \u001b[43m                                               \u001b[49m\u001b[43mretall\u001b[49m\u001b[38;5;241;43m=\u001b[39;49m\u001b[43mretall\u001b[49m\u001b[43m,\u001b[49m\n\u001b[0;32m    571\u001b[0m \u001b[43m                                               \u001b[49m\u001b[43mfull_output\u001b[49m\u001b[38;5;241;43m=\u001b[39;49m\u001b[43mfull_output\u001b[49m\u001b[43m)\u001b[49m\n\u001b[0;32m    572\u001b[0m \u001b[38;5;66;03m# Restore cov_type, cov_kwds and use_t\u001b[39;00m\n\u001b[0;32m    573\u001b[0m optim_settings\u001b[38;5;241m.\u001b[39mupdate(kwds)\n",
      "File \u001b[1;32m~\\anaconda3\\lib\\site-packages\\statsmodels\\base\\optimizer.py:241\u001b[0m, in \u001b[0;36mOptimizer._fit\u001b[1;34m(self, objective, gradient, start_params, fargs, kwargs, hessian, method, maxiter, full_output, disp, callback, retall)\u001b[0m\n\u001b[0;32m    238\u001b[0m     fit_funcs\u001b[38;5;241m.\u001b[39mupdate(extra_fit_funcs)\n\u001b[0;32m    240\u001b[0m func \u001b[38;5;241m=\u001b[39m fit_funcs[method]\n\u001b[1;32m--> 241\u001b[0m xopt, retvals \u001b[38;5;241m=\u001b[39m \u001b[43mfunc\u001b[49m\u001b[43m(\u001b[49m\u001b[43mobjective\u001b[49m\u001b[43m,\u001b[49m\u001b[43m \u001b[49m\u001b[43mgradient\u001b[49m\u001b[43m,\u001b[49m\u001b[43m \u001b[49m\u001b[43mstart_params\u001b[49m\u001b[43m,\u001b[49m\u001b[43m \u001b[49m\u001b[43mfargs\u001b[49m\u001b[43m,\u001b[49m\u001b[43m \u001b[49m\u001b[43mkwargs\u001b[49m\u001b[43m,\u001b[49m\n\u001b[0;32m    242\u001b[0m \u001b[43m                     \u001b[49m\u001b[43mdisp\u001b[49m\u001b[38;5;241;43m=\u001b[39;49m\u001b[43mdisp\u001b[49m\u001b[43m,\u001b[49m\u001b[43m \u001b[49m\u001b[43mmaxiter\u001b[49m\u001b[38;5;241;43m=\u001b[39;49m\u001b[43mmaxiter\u001b[49m\u001b[43m,\u001b[49m\u001b[43m \u001b[49m\u001b[43mcallback\u001b[49m\u001b[38;5;241;43m=\u001b[39;49m\u001b[43mcallback\u001b[49m\u001b[43m,\u001b[49m\n\u001b[0;32m    243\u001b[0m \u001b[43m                     \u001b[49m\u001b[43mretall\u001b[49m\u001b[38;5;241;43m=\u001b[39;49m\u001b[43mretall\u001b[49m\u001b[43m,\u001b[49m\u001b[43m \u001b[49m\u001b[43mfull_output\u001b[49m\u001b[38;5;241;43m=\u001b[39;49m\u001b[43mfull_output\u001b[49m\u001b[43m,\u001b[49m\n\u001b[0;32m    244\u001b[0m \u001b[43m                     \u001b[49m\u001b[43mhess\u001b[49m\u001b[38;5;241;43m=\u001b[39;49m\u001b[43mhessian\u001b[49m\u001b[43m)\u001b[49m\n\u001b[0;32m    246\u001b[0m optim_settings \u001b[38;5;241m=\u001b[39m {\u001b[38;5;124m'\u001b[39m\u001b[38;5;124moptimizer\u001b[39m\u001b[38;5;124m'\u001b[39m: method, \u001b[38;5;124m'\u001b[39m\u001b[38;5;124mstart_params\u001b[39m\u001b[38;5;124m'\u001b[39m: start_params,\n\u001b[0;32m    247\u001b[0m                   \u001b[38;5;124m'\u001b[39m\u001b[38;5;124mmaxiter\u001b[39m\u001b[38;5;124m'\u001b[39m: maxiter, \u001b[38;5;124m'\u001b[39m\u001b[38;5;124mfull_output\u001b[39m\u001b[38;5;124m'\u001b[39m: full_output,\n\u001b[0;32m    248\u001b[0m                   \u001b[38;5;124m'\u001b[39m\u001b[38;5;124mdisp\u001b[39m\u001b[38;5;124m'\u001b[39m: disp, \u001b[38;5;124m'\u001b[39m\u001b[38;5;124mfargs\u001b[39m\u001b[38;5;124m'\u001b[39m: fargs, \u001b[38;5;124m'\u001b[39m\u001b[38;5;124mcallback\u001b[39m\u001b[38;5;124m'\u001b[39m: callback,\n\u001b[0;32m    249\u001b[0m                   \u001b[38;5;124m'\u001b[39m\u001b[38;5;124mretall\u001b[39m\u001b[38;5;124m'\u001b[39m: retall, \u001b[38;5;124m\"\u001b[39m\u001b[38;5;124mextra_fit_funcs\u001b[39m\u001b[38;5;124m\"\u001b[39m: extra_fit_funcs}\n\u001b[0;32m    250\u001b[0m optim_settings\u001b[38;5;241m.\u001b[39mupdate(kwargs)\n",
      "File \u001b[1;32m~\\anaconda3\\lib\\site-packages\\statsmodels\\base\\optimizer.py:443\u001b[0m, in \u001b[0;36m_fit_newton\u001b[1;34m(f, score, start_params, fargs, kwargs, disp, maxiter, callback, retall, full_output, hess, ridge_factor)\u001b[0m\n\u001b[0;32m    441\u001b[0m         history\u001b[38;5;241m.\u001b[39mappend(newparams)\n\u001b[0;32m    442\u001b[0m     \u001b[38;5;28;01mif\u001b[39;00m callback \u001b[38;5;129;01mis\u001b[39;00m \u001b[38;5;129;01mnot\u001b[39;00m \u001b[38;5;28;01mNone\u001b[39;00m:\n\u001b[1;32m--> 443\u001b[0m         \u001b[43mcallback\u001b[49m\u001b[43m(\u001b[49m\u001b[43mnewparams\u001b[49m\u001b[43m)\u001b[49m\n\u001b[0;32m    444\u001b[0m     iterations \u001b[38;5;241m+\u001b[39m\u001b[38;5;241m=\u001b[39m \u001b[38;5;241m1\u001b[39m\n\u001b[0;32m    445\u001b[0m fval \u001b[38;5;241m=\u001b[39m f(newparams, \u001b[38;5;241m*\u001b[39mfargs)  \u001b[38;5;66;03m# this is the negative likelihood\u001b[39;00m\n",
      "File \u001b[1;32m~\\anaconda3\\lib\\site-packages\\statsmodels\\discrete\\discrete_model.py:214\u001b[0m, in \u001b[0;36mDiscreteModel._check_perfect_pred\u001b[1;34m(self, params, *args)\u001b[0m\n\u001b[0;32m    211\u001b[0m \u001b[38;5;28;01mif\u001b[39;00m (\u001b[38;5;28mself\u001b[39m\u001b[38;5;241m.\u001b[39mraise_on_perfect_prediction \u001b[38;5;129;01mand\u001b[39;00m\n\u001b[0;32m    212\u001b[0m         np\u001b[38;5;241m.\u001b[39mallclose(fittedvalues \u001b[38;5;241m-\u001b[39m endog, \u001b[38;5;241m0\u001b[39m)):\n\u001b[0;32m    213\u001b[0m     msg \u001b[38;5;241m=\u001b[39m \u001b[38;5;124m\"\u001b[39m\u001b[38;5;124mPerfect separation detected, results not available\u001b[39m\u001b[38;5;124m\"\u001b[39m\n\u001b[1;32m--> 214\u001b[0m     \u001b[38;5;28;01mraise\u001b[39;00m PerfectSeparationError(msg)\n",
      "\u001b[1;31mPerfectSeparationError\u001b[0m: Perfect separation detected, results not available"
     ]
    }
   ],
   "source": [
    "# Dependent variable is 'free_bikes'\n",
    "analysis_df.drop(['perc_of_free_bikes%'], axis=1)\n",
    "analysis_df.head()\n",
    "# y=analysis_df['busy_station']\n",
    "\n",
    "# # ['Yelp_restaurant rating']\n",
    "# # Independent variables are 'rating', and 'price'\n",
    "\n",
    "# X = sm.add_constant(X)\n",
    "\n",
    "# model = sm.Logit(y,X)\n",
    "# results = model.fit()\n",
    "# print(results.summary())"
   ]
  },
  {
   "cell_type": "code",
   "execution_count": 79,
   "metadata": {},
   "outputs": [
    {
     "name": "stdout",
     "output_type": "stream",
     "text": [
      "Index(['free_bikes', 'total_bikes', 'Yelp_restaurant rating',\n",
      "       'Yelp_restaurant_count', 'Yelp_park_rating', 'Yelp_park_count',\n",
      "       'FSQ_restaurant_count', 'FSQ_park_count', 'perc_of_free_bikes%',\n",
      "       'busy_station'],\n",
      "      dtype='object')\n"
     ]
    }
   ],
   "source": [
    "print(X.columns)\n"
   ]
  },
  {
   "cell_type": "code",
   "execution_count": null,
   "metadata": {},
   "outputs": [],
   "source": [
    "\n"
   ]
  }
 ],
 "metadata": {
  "kernelspec": {
   "display_name": "Python 3 (ipykernel)",
   "language": "python",
   "name": "python3"
  },
  "language_info": {
   "codemirror_mode": {
    "name": "ipython",
    "version": 3
   },
   "file_extension": ".py",
   "mimetype": "text/x-python",
   "name": "python",
   "nbconvert_exporter": "python",
   "pygments_lexer": "ipython3",
   "version": "3.10.9"
  }
 },
 "nbformat": 4,
 "nbformat_minor": 4
}
